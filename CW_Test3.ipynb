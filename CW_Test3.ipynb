{
 "cells": [
  {
   "cell_type": "code",
   "id": "initial_id",
   "metadata": {
    "collapsed": true,
    "ExecuteTime": {
     "end_time": "2024-05-17T01:32:01.991076Z",
     "start_time": "2024-05-17T01:32:01.841494Z"
    }
   },
   "source": [
    "import pandas as pd\n",
    "import numpy as np\n",
    "import matplotlib.pyplot as plt\n",
    "import seaborn as sns\n",
    "from sklearn.mixture import GaussianMixture\n",
    "\n",
    "import warnings\n",
    "warnings.filterwarnings(\"ignore\")"
   ],
   "outputs": [],
   "execution_count": 1
  },
  {
   "metadata": {
    "ExecuteTime": {
     "end_time": "2024-05-17T01:32:03.826031Z",
     "start_time": "2024-05-17T01:32:01.991076Z"
    }
   },
   "cell_type": "code",
   "source": [
    "data = 'result_comma.csv'\n",
    "df = pd.read_csv(data)\n",
    "df.head()"
   ],
   "id": "80efaab368d72ff8",
   "outputs": [
    {
     "data": {
      "text/plain": [
       "   Unnamed: 0                 date                 Дата_x        Посока  \\\n",
       "0           0  2023-03-29 12:00:00  29.3.2023 г. 12:00:06  Околовръстно   \n",
       "1           1  2023-03-29 12:00:00  29.3.2023 г. 12:00:07        Център   \n",
       "2           2  2023-03-29 12:00:00  29.3.2023 г. 12:00:08  Околовръстно   \n",
       "3           3  2023-03-29 12:00:00  29.3.2023 г. 12:00:10  Околовръстно   \n",
       "4           4  2023-03-29 12:00:00  29.3.2023 г. 12:00:11  Околовръстно   \n",
       "\n",
       "            Рег. номер Държава  Скорост  Клас Лента  Дължина  ...  \\\n",
       "0 -6295152506763664080     NaN     56.0   1.0    L6   2168.0  ...   \n",
       "1         140823469443     NaN     50.0   0.0    L2   2200.0  ...   \n",
       "2         140823469443     NaN     43.0   1.0    L5   3400.0  ...   \n",
       "3         140823469443     NaN     50.0   1.0    L5   9947.0  ...   \n",
       "4         140823469443     NaN     48.0   1.0    L6   3600.0  ...   \n",
       "\n",
       "   Средна скорост на вятър в m/s Средна посока на вятър в °  \\\n",
       "0                            4.6                      326.0   \n",
       "1                            4.6                      326.0   \n",
       "2                            4.6                      326.0   \n",
       "3                            4.6                      326.0   \n",
       "4                            4.6                      326.0   \n",
       "\n",
       "  Темп. на повърхността на настилката в °C  Точка на замръзване в °C  \\\n",
       "0                                     14.3                       0.0   \n",
       "1                                     14.3                       0.0   \n",
       "2                                     14.3                       0.0   \n",
       "3                                     14.3                       0.0   \n",
       "4                                     14.3                       0.0   \n",
       "\n",
       "   Състояние на повърхността  Предупреждение за състояние на повърхността  \\\n",
       "0                         DR                                          NaN   \n",
       "1                         DR                                          NaN   \n",
       "2                         DR                                          NaN   \n",
       "3                         DR                                          NaN   \n",
       "4                         DR                                          NaN   \n",
       "\n",
       "   Височина на водния стълб в µm  Темп. под повърхн. на дълб. 5 см в °C  \\\n",
       "0                            0.0                                   11.2   \n",
       "1                            0.0                                   11.2   \n",
       "2                            0.0                                   11.2   \n",
       "3                            0.0                                   11.2   \n",
       "4                            0.0                                   11.2   \n",
       "\n",
       "   Макс. скорост на вятър в m/s  Посока на вятъра при макс. скорост в °  \n",
       "0                           8.7                                     3.0  \n",
       "1                           8.7                                     3.0  \n",
       "2                           8.7                                     3.0  \n",
       "3                           8.7                                     3.0  \n",
       "4                           8.7                                     3.0  \n",
       "\n",
       "[5 rows x 28 columns]"
      ],
      "text/html": [
       "<div>\n",
       "<style scoped>\n",
       "    .dataframe tbody tr th:only-of-type {\n",
       "        vertical-align: middle;\n",
       "    }\n",
       "\n",
       "    .dataframe tbody tr th {\n",
       "        vertical-align: top;\n",
       "    }\n",
       "\n",
       "    .dataframe thead th {\n",
       "        text-align: right;\n",
       "    }\n",
       "</style>\n",
       "<table border=\"1\" class=\"dataframe\">\n",
       "  <thead>\n",
       "    <tr style=\"text-align: right;\">\n",
       "      <th></th>\n",
       "      <th>Unnamed: 0</th>\n",
       "      <th>date</th>\n",
       "      <th>Дата_x</th>\n",
       "      <th>Посока</th>\n",
       "      <th>Рег. номер</th>\n",
       "      <th>Държава</th>\n",
       "      <th>Скорост</th>\n",
       "      <th>Клас</th>\n",
       "      <th>Лента</th>\n",
       "      <th>Дължина</th>\n",
       "      <th>...</th>\n",
       "      <th>Средна скорост на вятър в m/s</th>\n",
       "      <th>Средна посока на вятър в °</th>\n",
       "      <th>Темп. на повърхността на настилката в °C</th>\n",
       "      <th>Точка на замръзване в °C</th>\n",
       "      <th>Състояние на повърхността</th>\n",
       "      <th>Предупреждение за състояние на повърхността</th>\n",
       "      <th>Височина на водния стълб в µm</th>\n",
       "      <th>Темп. под повърхн. на дълб. 5 см в °C</th>\n",
       "      <th>Макс. скорост на вятър в m/s</th>\n",
       "      <th>Посока на вятъра при макс. скорост в °</th>\n",
       "    </tr>\n",
       "  </thead>\n",
       "  <tbody>\n",
       "    <tr>\n",
       "      <th>0</th>\n",
       "      <td>0</td>\n",
       "      <td>2023-03-29 12:00:00</td>\n",
       "      <td>29.3.2023 г. 12:00:06</td>\n",
       "      <td>Околовръстно</td>\n",
       "      <td>-6295152506763664080</td>\n",
       "      <td>NaN</td>\n",
       "      <td>56.0</td>\n",
       "      <td>1.0</td>\n",
       "      <td>L6</td>\n",
       "      <td>2168.0</td>\n",
       "      <td>...</td>\n",
       "      <td>4.6</td>\n",
       "      <td>326.0</td>\n",
       "      <td>14.3</td>\n",
       "      <td>0.0</td>\n",
       "      <td>DR</td>\n",
       "      <td>NaN</td>\n",
       "      <td>0.0</td>\n",
       "      <td>11.2</td>\n",
       "      <td>8.7</td>\n",
       "      <td>3.0</td>\n",
       "    </tr>\n",
       "    <tr>\n",
       "      <th>1</th>\n",
       "      <td>1</td>\n",
       "      <td>2023-03-29 12:00:00</td>\n",
       "      <td>29.3.2023 г. 12:00:07</td>\n",
       "      <td>Център</td>\n",
       "      <td>140823469443</td>\n",
       "      <td>NaN</td>\n",
       "      <td>50.0</td>\n",
       "      <td>0.0</td>\n",
       "      <td>L2</td>\n",
       "      <td>2200.0</td>\n",
       "      <td>...</td>\n",
       "      <td>4.6</td>\n",
       "      <td>326.0</td>\n",
       "      <td>14.3</td>\n",
       "      <td>0.0</td>\n",
       "      <td>DR</td>\n",
       "      <td>NaN</td>\n",
       "      <td>0.0</td>\n",
       "      <td>11.2</td>\n",
       "      <td>8.7</td>\n",
       "      <td>3.0</td>\n",
       "    </tr>\n",
       "    <tr>\n",
       "      <th>2</th>\n",
       "      <td>2</td>\n",
       "      <td>2023-03-29 12:00:00</td>\n",
       "      <td>29.3.2023 г. 12:00:08</td>\n",
       "      <td>Околовръстно</td>\n",
       "      <td>140823469443</td>\n",
       "      <td>NaN</td>\n",
       "      <td>43.0</td>\n",
       "      <td>1.0</td>\n",
       "      <td>L5</td>\n",
       "      <td>3400.0</td>\n",
       "      <td>...</td>\n",
       "      <td>4.6</td>\n",
       "      <td>326.0</td>\n",
       "      <td>14.3</td>\n",
       "      <td>0.0</td>\n",
       "      <td>DR</td>\n",
       "      <td>NaN</td>\n",
       "      <td>0.0</td>\n",
       "      <td>11.2</td>\n",
       "      <td>8.7</td>\n",
       "      <td>3.0</td>\n",
       "    </tr>\n",
       "    <tr>\n",
       "      <th>3</th>\n",
       "      <td>3</td>\n",
       "      <td>2023-03-29 12:00:00</td>\n",
       "      <td>29.3.2023 г. 12:00:10</td>\n",
       "      <td>Околовръстно</td>\n",
       "      <td>140823469443</td>\n",
       "      <td>NaN</td>\n",
       "      <td>50.0</td>\n",
       "      <td>1.0</td>\n",
       "      <td>L5</td>\n",
       "      <td>9947.0</td>\n",
       "      <td>...</td>\n",
       "      <td>4.6</td>\n",
       "      <td>326.0</td>\n",
       "      <td>14.3</td>\n",
       "      <td>0.0</td>\n",
       "      <td>DR</td>\n",
       "      <td>NaN</td>\n",
       "      <td>0.0</td>\n",
       "      <td>11.2</td>\n",
       "      <td>8.7</td>\n",
       "      <td>3.0</td>\n",
       "    </tr>\n",
       "    <tr>\n",
       "      <th>4</th>\n",
       "      <td>4</td>\n",
       "      <td>2023-03-29 12:00:00</td>\n",
       "      <td>29.3.2023 г. 12:00:11</td>\n",
       "      <td>Околовръстно</td>\n",
       "      <td>140823469443</td>\n",
       "      <td>NaN</td>\n",
       "      <td>48.0</td>\n",
       "      <td>1.0</td>\n",
       "      <td>L6</td>\n",
       "      <td>3600.0</td>\n",
       "      <td>...</td>\n",
       "      <td>4.6</td>\n",
       "      <td>326.0</td>\n",
       "      <td>14.3</td>\n",
       "      <td>0.0</td>\n",
       "      <td>DR</td>\n",
       "      <td>NaN</td>\n",
       "      <td>0.0</td>\n",
       "      <td>11.2</td>\n",
       "      <td>8.7</td>\n",
       "      <td>3.0</td>\n",
       "    </tr>\n",
       "  </tbody>\n",
       "</table>\n",
       "<p>5 rows × 28 columns</p>\n",
       "</div>"
      ]
     },
     "execution_count": 2,
     "metadata": {},
     "output_type": "execute_result"
    }
   ],
   "execution_count": 2
  },
  {
   "metadata": {
    "ExecuteTime": {
     "end_time": "2024-05-17T01:32:03.835836Z",
     "start_time": "2024-05-17T01:32:03.826031Z"
    }
   },
   "cell_type": "code",
   "source": [
    "selected_columns = ['Скорост', 'Дължина']\n",
    "data_selected = df[selected_columns]\n",
    "data_selected.head()"
   ],
   "id": "16b68e70efb5943c",
   "outputs": [
    {
     "data": {
      "text/plain": [
       "   Скорост  Дължина\n",
       "0     56.0   2168.0\n",
       "1     50.0   2200.0\n",
       "2     43.0   3400.0\n",
       "3     50.0   9947.0\n",
       "4     48.0   3600.0"
      ],
      "text/html": [
       "<div>\n",
       "<style scoped>\n",
       "    .dataframe tbody tr th:only-of-type {\n",
       "        vertical-align: middle;\n",
       "    }\n",
       "\n",
       "    .dataframe tbody tr th {\n",
       "        vertical-align: top;\n",
       "    }\n",
       "\n",
       "    .dataframe thead th {\n",
       "        text-align: right;\n",
       "    }\n",
       "</style>\n",
       "<table border=\"1\" class=\"dataframe\">\n",
       "  <thead>\n",
       "    <tr style=\"text-align: right;\">\n",
       "      <th></th>\n",
       "      <th>Скорост</th>\n",
       "      <th>Дължина</th>\n",
       "    </tr>\n",
       "  </thead>\n",
       "  <tbody>\n",
       "    <tr>\n",
       "      <th>0</th>\n",
       "      <td>56.0</td>\n",
       "      <td>2168.0</td>\n",
       "    </tr>\n",
       "    <tr>\n",
       "      <th>1</th>\n",
       "      <td>50.0</td>\n",
       "      <td>2200.0</td>\n",
       "    </tr>\n",
       "    <tr>\n",
       "      <th>2</th>\n",
       "      <td>43.0</td>\n",
       "      <td>3400.0</td>\n",
       "    </tr>\n",
       "    <tr>\n",
       "      <th>3</th>\n",
       "      <td>50.0</td>\n",
       "      <td>9947.0</td>\n",
       "    </tr>\n",
       "    <tr>\n",
       "      <th>4</th>\n",
       "      <td>48.0</td>\n",
       "      <td>3600.0</td>\n",
       "    </tr>\n",
       "  </tbody>\n",
       "</table>\n",
       "</div>"
      ]
     },
     "execution_count": 3,
     "metadata": {},
     "output_type": "execute_result"
    }
   ],
   "execution_count": 3
  },
  {
   "metadata": {
    "ExecuteTime": {
     "end_time": "2024-05-17T01:32:03.843999Z",
     "start_time": "2024-05-17T01:32:03.836840Z"
    }
   },
   "cell_type": "code",
   "source": [
    "missing_values = data_selected.isnull().sum()\n",
    "print(missing_values)"
   ],
   "id": "75d1a5a1c8b69837",
   "outputs": [
    {
     "name": "stdout",
     "output_type": "stream",
     "text": [
      "Скорост    1427\n",
      "Дължина    1427\n",
      "dtype: int64\n"
     ]
    }
   ],
   "execution_count": 4
  },
  {
   "metadata": {
    "ExecuteTime": {
     "end_time": "2024-05-17T01:32:03.856360Z",
     "start_time": "2024-05-17T01:32:03.843999Z"
    }
   },
   "cell_type": "code",
   "source": [
    "data_selected = data_selected.replace(0, np.nan)\n",
    "data_selected.head()"
   ],
   "id": "6296553221a454d7",
   "outputs": [
    {
     "data": {
      "text/plain": [
       "   Скорост  Дължина\n",
       "0     56.0   2168.0\n",
       "1     50.0   2200.0\n",
       "2     43.0   3400.0\n",
       "3     50.0   9947.0\n",
       "4     48.0   3600.0"
      ],
      "text/html": [
       "<div>\n",
       "<style scoped>\n",
       "    .dataframe tbody tr th:only-of-type {\n",
       "        vertical-align: middle;\n",
       "    }\n",
       "\n",
       "    .dataframe tbody tr th {\n",
       "        vertical-align: top;\n",
       "    }\n",
       "\n",
       "    .dataframe thead th {\n",
       "        text-align: right;\n",
       "    }\n",
       "</style>\n",
       "<table border=\"1\" class=\"dataframe\">\n",
       "  <thead>\n",
       "    <tr style=\"text-align: right;\">\n",
       "      <th></th>\n",
       "      <th>Скорост</th>\n",
       "      <th>Дължина</th>\n",
       "    </tr>\n",
       "  </thead>\n",
       "  <tbody>\n",
       "    <tr>\n",
       "      <th>0</th>\n",
       "      <td>56.0</td>\n",
       "      <td>2168.0</td>\n",
       "    </tr>\n",
       "    <tr>\n",
       "      <th>1</th>\n",
       "      <td>50.0</td>\n",
       "      <td>2200.0</td>\n",
       "    </tr>\n",
       "    <tr>\n",
       "      <th>2</th>\n",
       "      <td>43.0</td>\n",
       "      <td>3400.0</td>\n",
       "    </tr>\n",
       "    <tr>\n",
       "      <th>3</th>\n",
       "      <td>50.0</td>\n",
       "      <td>9947.0</td>\n",
       "    </tr>\n",
       "    <tr>\n",
       "      <th>4</th>\n",
       "      <td>48.0</td>\n",
       "      <td>3600.0</td>\n",
       "    </tr>\n",
       "  </tbody>\n",
       "</table>\n",
       "</div>"
      ]
     },
     "execution_count": 5,
     "metadata": {},
     "output_type": "execute_result"
    }
   ],
   "execution_count": 5
  },
  {
   "metadata": {
    "ExecuteTime": {
     "end_time": "2024-05-17T01:32:03.863257Z",
     "start_time": "2024-05-17T01:32:03.856360Z"
    }
   },
   "cell_type": "code",
   "source": [
    "missing_values = data_selected.isnull().sum()\n",
    "print(missing_values)"
   ],
   "id": "5588a172976ea5b2",
   "outputs": [
    {
     "name": "stdout",
     "output_type": "stream",
     "text": [
      "Скорост    1897\n",
      "Дължина    9048\n",
      "dtype: int64\n"
     ]
    }
   ],
   "execution_count": 6
  },
  {
   "metadata": {
    "ExecuteTime": {
     "end_time": "2024-05-17T01:32:03.879522Z",
     "start_time": "2024-05-17T01:32:03.863257Z"
    }
   },
   "cell_type": "code",
   "source": [
    "data_selected = data_selected.dropna()\n",
    "data_selected.head()"
   ],
   "id": "cac4076b5f1de528",
   "outputs": [
    {
     "data": {
      "text/plain": [
       "   Скорост  Дължина\n",
       "0     56.0   2168.0\n",
       "1     50.0   2200.0\n",
       "2     43.0   3400.0\n",
       "3     50.0   9947.0\n",
       "4     48.0   3600.0"
      ],
      "text/html": [
       "<div>\n",
       "<style scoped>\n",
       "    .dataframe tbody tr th:only-of-type {\n",
       "        vertical-align: middle;\n",
       "    }\n",
       "\n",
       "    .dataframe tbody tr th {\n",
       "        vertical-align: top;\n",
       "    }\n",
       "\n",
       "    .dataframe thead th {\n",
       "        text-align: right;\n",
       "    }\n",
       "</style>\n",
       "<table border=\"1\" class=\"dataframe\">\n",
       "  <thead>\n",
       "    <tr style=\"text-align: right;\">\n",
       "      <th></th>\n",
       "      <th>Скорост</th>\n",
       "      <th>Дължина</th>\n",
       "    </tr>\n",
       "  </thead>\n",
       "  <tbody>\n",
       "    <tr>\n",
       "      <th>0</th>\n",
       "      <td>56.0</td>\n",
       "      <td>2168.0</td>\n",
       "    </tr>\n",
       "    <tr>\n",
       "      <th>1</th>\n",
       "      <td>50.0</td>\n",
       "      <td>2200.0</td>\n",
       "    </tr>\n",
       "    <tr>\n",
       "      <th>2</th>\n",
       "      <td>43.0</td>\n",
       "      <td>3400.0</td>\n",
       "    </tr>\n",
       "    <tr>\n",
       "      <th>3</th>\n",
       "      <td>50.0</td>\n",
       "      <td>9947.0</td>\n",
       "    </tr>\n",
       "    <tr>\n",
       "      <th>4</th>\n",
       "      <td>48.0</td>\n",
       "      <td>3600.0</td>\n",
       "    </tr>\n",
       "  </tbody>\n",
       "</table>\n",
       "</div>"
      ]
     },
     "execution_count": 7,
     "metadata": {},
     "output_type": "execute_result"
    }
   ],
   "execution_count": 7
  },
  {
   "metadata": {
    "ExecuteTime": {
     "end_time": "2024-05-17T01:32:03.885956Z",
     "start_time": "2024-05-17T01:32:03.879522Z"
    }
   },
   "cell_type": "code",
   "source": [
    "missing_values = data_selected.isnull().sum()\n",
    "print(missing_values)"
   ],
   "id": "6a87d1ea9e9d3400",
   "outputs": [
    {
     "name": "stdout",
     "output_type": "stream",
     "text": [
      "Скорост    0\n",
      "Дължина    0\n",
      "dtype: int64\n"
     ]
    }
   ],
   "execution_count": 8
  },
  {
   "metadata": {
    "ExecuteTime": {
     "end_time": "2024-05-17T01:32:13.418271Z",
     "start_time": "2024-05-17T01:32:03.885956Z"
    }
   },
   "cell_type": "code",
   "source": [
    "from sklearn.ensemble import IsolationForest\n",
    "\n",
    "# Създаване на модел за Isolation Forest\n",
    "model = IsolationForest(random_state= 10,contamination=0.1)  # contamination е долята на аномалиите в данните\n",
    "\n",
    "# Подготовка на данните X, които съдържат вашите данни\n",
    "model.fit(data_selected)  # Трениране на модела\n",
    "predictions = model.predict(data_selected)  # Предсказване на аномалиите\n",
    "\n",
    "\n",
    "cleaned_df = data_selected[predictions == 1]  # Избиране на редовете, които не са маркирани като аномалии\n",
    "\n",
    "# Запазване на промените в нов CSV файл\n",
    "cleaned_df.to_csv('correct_cleaned.csv', index=False)"
   ],
   "id": "a5f863d0a107c0",
   "outputs": [],
   "execution_count": 9
  },
  {
   "metadata": {
    "ExecuteTime": {
     "end_time": "2024-05-17T01:32:15.469516Z",
     "start_time": "2024-05-17T01:32:13.418271Z"
    }
   },
   "cell_type": "code",
   "source": [
    "from sklearn.cluster import KMeans\n",
    "import matplotlib.pyplot as plt\n",
    "\n",
    "# Примерни данни\n",
    "# предполагаме, че X е вашият набор от данни\n",
    "X = cleaned_df\n",
    "\n",
    "# Създаване на списък, в който ще съхраните стойности на вариацията за всяко k\n",
    "variations = []\n",
    "\n",
    "# Ползваме k от 1 до 10 за пример\n",
    "for k in range(1, 11):\n",
    "    # Създаване на k-means модел с k кластера\n",
    "    kmeans = KMeans(n_clusters=k)\n",
    "    kmeans.fit(X)\n",
    "    \n",
    "    # Записване на вариацията за текущото k\n",
    "    variations.append(kmeans.inertia_)\n",
    "\n",
    "# Визуализация на метода на лакътя\n",
    "plt.plot(range(1, 11), variations, marker='o')\n",
    "plt.xlabel('Брой клъстери')\n",
    "plt.ylabel('Сума на квадратите на разстоянията до центроидите (инерция)')\n",
    "plt.title('Метод на лакътя')\n",
    "plt.show()"
   ],
   "id": "dcd24fd7b435e7bd",
   "outputs": [
    {
     "data": {
      "text/plain": [
       "<Figure size 640x480 with 1 Axes>"
      ],
      "image/png": "[encoded data removed]"
     },
     "metadata": {},
     "output_type": "display_data"
    }
   ],
   "execution_count": 10
  },
  {
   "metadata": {
    "ExecuteTime": {
     "end_time": "2024-05-17T01:32:15.493441Z",
     "start_time": "2024-05-17T01:32:15.469516Z"
    }
   },
   "cell_type": "code",
   "source": [
    "from sklearn.preprocessing import StandardScaler\n",
    "numeric_columns = cleaned_df.select_dtypes(include=['number']).columns\n",
    "scaler = StandardScaler()\n",
    "data_standartized = scaler.fit_transform(cleaned_df[numeric_columns])\n",
    "data_standartized"
   ],
   "id": "cc02493aa18d1c40",
   "outputs": [
    {
     "data": {
      "text/plain": [
       "array([[ 1.10899623, -1.48406729],\n",
       "       [ 0.41382587, -1.45356081],\n",
       "       [-0.39720623, -0.30956786],\n",
       "       ...,\n",
       "       [-0.51306796, -1.68045275],\n",
       "       [-2.83030252,  0.35776136],\n",
       "       [-0.39720623, -1.32962824]])"
      ]
     },
     "execution_count": 11,
     "metadata": {},
     "output_type": "execute_result"
    }
   ],
   "execution_count": 11
  },
  {
   "metadata": {
    "ExecuteTime": {
     "end_time": "2024-05-17T01:32:20.380769Z",
     "start_time": "2024-05-17T01:32:15.493441Z"
    }
   },
   "cell_type": "code",
   "source": [
    "n_clusters = 5\n",
    "gmm = GaussianMixture(n_components=n_clusters)\n",
    "gmm.fit(data_standartized)\n",
    "labels = gmm.predict(data_standartized)\n",
    "\n"
   ],
   "id": "adf8d50c8cf05e6f",
   "outputs": [],
   "execution_count": 12
  },
  {
   "metadata": {
    "ExecuteTime": {
     "end_time": "2024-05-17T01:32:20.385268Z",
     "start_time": "2024-05-17T01:32:20.380769Z"
    }
   },
   "cell_type": "code",
   "source": "labels\n",
   "id": "66ddd5317bdca9e",
   "outputs": [
    {
     "data": {
      "text/plain": [
       "array([1, 1, 2, ..., 1, 4, 1], dtype=int64)"
      ]
     },
     "execution_count": 13,
     "metadata": {},
     "output_type": "execute_result"
    }
   ],
   "execution_count": 13
  },
  {
   "metadata": {
    "ExecuteTime": {
     "end_time": "2024-05-17T01:32:26.417073Z",
     "start_time": "2024-05-17T01:32:20.386919Z"
    }
   },
   "cell_type": "code",
   "source": [
    "data_standartized=cleaned_df.copy()\n",
    "data_standartized['Cluster']=labels\n",
    "plt.scatter(data_standartized['Скорост'],data_standartized['Дължина'],c=data_standartized['Cluster'],cmap= 'viridis')\n",
    "plt.show()"
   ],
   "id": "40760c2a2bfdef75",
   "outputs": [
    {
     "data": {
      "text/plain": [
       "<Figure size 640x480 with 1 Axes>"
      ],
      "image/png": "[encoded data removed]"
     },
     "metadata": {},
     "output_type": "display_data"
    }
   ],
   "execution_count": 14
  },
  {
   "metadata": {
    "ExecuteTime": {
     "end_time": "2024-05-17T01:32:26.420070Z",
     "start_time": "2024-05-17T01:32:26.417073Z"
    }
   },
   "cell_type": "code",
   "source": "",
   "id": "80965fa00743e4b1",
   "outputs": [],
   "execution_count": 14
  },
  {
   "metadata": {
    "ExecuteTime": {
     "end_time": "2024-05-17T01:32:26.423311Z",
     "start_time": "2024-05-17T01:32:26.420070Z"
    }
   },
   "cell_type": "code",
   "source": "",
   "id": "34ed50818fea3923",
   "outputs": [],
   "execution_count": 14
  },
  {
   "metadata": {
    "ExecuteTime": {
     "end_time": "2024-05-17T01:32:26.426647Z",
     "start_time": "2024-05-17T01:32:26.423311Z"
    }
   },
   "cell_type": "code",
   "source": "",
   "id": "49290393360432f6",
   "outputs": [],
   "execution_count": 14
  }
 ],
 "metadata": {
  "kernelspec": {
   "display_name": "Python 3",
   "language": "python",
   "name": "python3"
  },
  "language_info": {
   "codemirror_mode": {
    "name": "ipython",
    "version": 2
   },
   "file_extension": ".py",
   "mimetype": "text/x-python",
   "name": "python",
   "nbconvert_exporter": "python",
   "pygments_lexer": "ipython2",
   "version": "2.7.6"
  }
 },
 "nbformat": 4,
 "nbformat_minor": 5
}
