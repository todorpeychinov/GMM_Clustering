{
 "cells": [
  {
   "cell_type": "code",
   "id": "initial_id",
   "metadata": {
    "collapsed": true,
    "ExecuteTime": {
     "end_time": "2024-05-17T02:11:06.915850Z",
     "start_time": "2024-05-17T02:11:06.896375Z"
    }
   },
   "source": [
    "import pandas as pd\n",
    "import numpy as np\n",
    "import matplotlib.pyplot as plt\n",
    "import seaborn as sns\n",
    "from sklearn.mixture import GaussianMixture\n",
    "\n",
    "import warnings\n",
    "warnings.filterwarnings(\"ignore\")"
   ],
   "outputs": [],
   "execution_count": 2
  },
  {
   "metadata": {
    "ExecuteTime": {
     "end_time": "2024-05-17T02:11:08.756421Z",
     "start_time": "2024-05-17T02:11:06.915850Z"
    }
   },
   "cell_type": "code",
   "source": [
    "data = 'result_comma.csv'\n",
    "df = pd.read_csv(data)\n",
    "df.head()"
   ],
   "id": "854b75ea6b2d58fb",
   "outputs": [
    {
     "data": {
      "text/plain": [
       "   Unnamed: 0                 date                 Дата_x        Посока  \\\n",
       "0           0  2023-03-29 12:00:00  29.3.2023 г. 12:00:06  Околовръстно   \n",
       "1           1  2023-03-29 12:00:00  29.3.2023 г. 12:00:07        Център   \n",
       "2           2  2023-03-29 12:00:00  29.3.2023 г. 12:00:08  Околовръстно   \n",
       "3           3  2023-03-29 12:00:00  29.3.2023 г. 12:00:10  Околовръстно   \n",
       "4           4  2023-03-29 12:00:00  29.3.2023 г. 12:00:11  Околовръстно   \n",
       "\n",
       "            Рег. номер Държава  Скорост  Клас Лента  Дължина  ...  \\\n",
       "0 -6295152506763664080     NaN     56.0   1.0    L6   2168.0  ...   \n",
       "1         140823469443     NaN     50.0   0.0    L2   2200.0  ...   \n",
       "2         140823469443     NaN     43.0   1.0    L5   3400.0  ...   \n",
       "3         140823469443     NaN     50.0   1.0    L5   9947.0  ...   \n",
       "4         140823469443     NaN     48.0   1.0    L6   3600.0  ...   \n",
       "\n",
       "   Средна скорост на вятър в m/s Средна посока на вятър в °  \\\n",
       "0                            4.6                      326.0   \n",
       "1                            4.6                      326.0   \n",
       "2                            4.6                      326.0   \n",
       "3                            4.6                      326.0   \n",
       "4                            4.6                      326.0   \n",
       "\n",
       "  Темп. на повърхността на настилката в °C  Точка на замръзване в °C  \\\n",
       "0                                     14.3                       0.0   \n",
       "1                                     14.3                       0.0   \n",
       "2                                     14.3                       0.0   \n",
       "3                                     14.3                       0.0   \n",
       "4                                     14.3                       0.0   \n",
       "\n",
       "   Състояние на повърхността  Предупреждение за състояние на повърхността  \\\n",
       "0                         DR                                          NaN   \n",
       "1                         DR                                          NaN   \n",
       "2                         DR                                          NaN   \n",
       "3                         DR                                          NaN   \n",
       "4                         DR                                          NaN   \n",
       "\n",
       "   Височина на водния стълб в µm  Темп. под повърхн. на дълб. 5 см в °C  \\\n",
       "0                            0.0                                   11.2   \n",
       "1                            0.0                                   11.2   \n",
       "2                            0.0                                   11.2   \n",
       "3                            0.0                                   11.2   \n",
       "4                            0.0                                   11.2   \n",
       "\n",
       "   Макс. скорост на вятър в m/s  Посока на вятъра при макс. скорост в °  \n",
       "0                           8.7                                     3.0  \n",
       "1                           8.7                                     3.0  \n",
       "2                           8.7                                     3.0  \n",
       "3                           8.7                                     3.0  \n",
       "4                           8.7                                     3.0  \n",
       "\n",
       "[5 rows x 28 columns]"
      ],
      "text/html": [
       "<div>\n",
       "<style scoped>\n",
       "    .dataframe tbody tr th:only-of-type {\n",
       "        vertical-align: middle;\n",
       "    }\n",
       "\n",
       "    .dataframe tbody tr th {\n",
       "        vertical-align: top;\n",
       "    }\n",
       "\n",
       "    .dataframe thead th {\n",
       "        text-align: right;\n",
       "    }\n",
       "</style>\n",
       "<table border=\"1\" class=\"dataframe\">\n",
       "  <thead>\n",
       "    <tr style=\"text-align: right;\">\n",
       "      <th></th>\n",
       "      <th>Unnamed: 0</th>\n",
       "      <th>date</th>\n",
       "      <th>Дата_x</th>\n",
       "      <th>Посока</th>\n",
       "      <th>Рег. номер</th>\n",
       "      <th>Държава</th>\n",
       "      <th>Скорост</th>\n",
       "      <th>Клас</th>\n",
       "      <th>Лента</th>\n",
       "      <th>Дължина</th>\n",
       "      <th>...</th>\n",
       "      <th>Средна скорост на вятър в m/s</th>\n",
       "      <th>Средна посока на вятър в °</th>\n",
       "      <th>Темп. на повърхността на настилката в °C</th>\n",
       "      <th>Точка на замръзване в °C</th>\n",
       "      <th>Състояние на повърхността</th>\n",
       "      <th>Предупреждение за състояние на повърхността</th>\n",
       "      <th>Височина на водния стълб в µm</th>\n",
       "      <th>Темп. под повърхн. на дълб. 5 см в °C</th>\n",
       "      <th>Макс. скорост на вятър в m/s</th>\n",
       "      <th>Посока на вятъра при макс. скорост в °</th>\n",
       "    </tr>\n",
       "  </thead>\n",
       "  <tbody>\n",
       "    <tr>\n",
       "      <th>0</th>\n",
       "      <td>0</td>\n",
       "      <td>2023-03-29 12:00:00</td>\n",
       "      <td>29.3.2023 г. 12:00:06</td>\n",
       "      <td>Околовръстно</td>\n",
       "      <td>-6295152506763664080</td>\n",
       "      <td>NaN</td>\n",
       "      <td>56.0</td>\n",
       "      <td>1.0</td>\n",
       "      <td>L6</td>\n",
       "      <td>2168.0</td>\n",
       "      <td>...</td>\n",
       "      <td>4.6</td>\n",
       "      <td>326.0</td>\n",
       "      <td>14.3</td>\n",
       "      <td>0.0</td>\n",
       "      <td>DR</td>\n",
       "      <td>NaN</td>\n",
       "      <td>0.0</td>\n",
       "      <td>11.2</td>\n",
       "      <td>8.7</td>\n",
       "      <td>3.0</td>\n",
       "    </tr>\n",
       "    <tr>\n",
       "      <th>1</th>\n",
       "      <td>1</td>\n",
       "      <td>2023-03-29 12:00:00</td>\n",
       "      <td>29.3.2023 г. 12:00:07</td>\n",
       "      <td>Център</td>\n",
       "      <td>140823469443</td>\n",
       "      <td>NaN</td>\n",
       "      <td>50.0</td>\n",
       "      <td>0.0</td>\n",
       "      <td>L2</td>\n",
       "      <td>2200.0</td>\n",
       "      <td>...</td>\n",
       "      <td>4.6</td>\n",
       "      <td>326.0</td>\n",
       "      <td>14.3</td>\n",
       "      <td>0.0</td>\n",
       "      <td>DR</td>\n",
       "      <td>NaN</td>\n",
       "      <td>0.0</td>\n",
       "      <td>11.2</td>\n",
       "      <td>8.7</td>\n",
       "      <td>3.0</td>\n",
       "    </tr>\n",
       "    <tr>\n",
       "      <th>2</th>\n",
       "      <td>2</td>\n",
       "      <td>2023-03-29 12:00:00</td>\n",
       "      <td>29.3.2023 г. 12:00:08</td>\n",
       "      <td>Околовръстно</td>\n",
       "      <td>140823469443</td>\n",
       "      <td>NaN</td>\n",
       "      <td>43.0</td>\n",
       "      <td>1.0</td>\n",
       "      <td>L5</td>\n",
       "      <td>3400.0</td>\n",
       "      <td>...</td>\n",
       "      <td>4.6</td>\n",
       "      <td>326.0</td>\n",
       "      <td>14.3</td>\n",
       "      <td>0.0</td>\n",
       "      <td>DR</td>\n",
       "      <td>NaN</td>\n",
       "      <td>0.0</td>\n",
       "      <td>11.2</td>\n",
       "      <td>8.7</td>\n",
       "      <td>3.0</td>\n",
       "    </tr>\n",
       "    <tr>\n",
       "      <th>3</th>\n",
       "      <td>3</td>\n",
       "      <td>2023-03-29 12:00:00</td>\n",
       "      <td>29.3.2023 г. 12:00:10</td>\n",
       "      <td>Околовръстно</td>\n",
       "      <td>140823469443</td>\n",
       "      <td>NaN</td>\n",
       "      <td>50.0</td>\n",
       "      <td>1.0</td>\n",
       "      <td>L5</td>\n",
       "      <td>9947.0</td>\n",
       "      <td>...</td>\n",
       "      <td>4.6</td>\n",
       "      <td>326.0</td>\n",
       "      <td>14.3</td>\n",
       "      <td>0.0</td>\n",
       "      <td>DR</td>\n",
       "      <td>NaN</td>\n",
       "      <td>0.0</td>\n",
       "      <td>11.2</td>\n",
       "      <td>8.7</td>\n",
       "      <td>3.0</td>\n",
       "    </tr>\n",
       "    <tr>\n",
       "      <th>4</th>\n",
       "      <td>4</td>\n",
       "      <td>2023-03-29 12:00:00</td>\n",
       "      <td>29.3.2023 г. 12:00:11</td>\n",
       "      <td>Околовръстно</td>\n",
       "      <td>140823469443</td>\n",
       "      <td>NaN</td>\n",
       "      <td>48.0</td>\n",
       "      <td>1.0</td>\n",
       "      <td>L6</td>\n",
       "      <td>3600.0</td>\n",
       "      <td>...</td>\n",
       "      <td>4.6</td>\n",
       "      <td>326.0</td>\n",
       "      <td>14.3</td>\n",
       "      <td>0.0</td>\n",
       "      <td>DR</td>\n",
       "      <td>NaN</td>\n",
       "      <td>0.0</td>\n",
       "      <td>11.2</td>\n",
       "      <td>8.7</td>\n",
       "      <td>3.0</td>\n",
       "    </tr>\n",
       "  </tbody>\n",
       "</table>\n",
       "<p>5 rows × 28 columns</p>\n",
       "</div>"
      ]
     },
     "execution_count": 3,
     "metadata": {},
     "output_type": "execute_result"
    }
   ],
   "execution_count": 3
  },
  {
   "metadata": {
    "ExecuteTime": {
     "end_time": "2024-05-17T02:11:08.768929Z",
     "start_time": "2024-05-17T02:11:08.756421Z"
    }
   },
   "cell_type": "code",
   "source": [
    "selected_columns = ['Лента']\n",
    "file_lenta = df[selected_columns]"
   ],
   "id": "41cbf71e92b8cb77",
   "outputs": [],
   "execution_count": 4
  },
  {
   "metadata": {
    "ExecuteTime": {
     "end_time": "2024-05-17T02:11:08.803879Z",
     "start_time": "2024-05-17T02:11:08.768929Z"
    }
   },
   "cell_type": "code",
   "source": [
    "lenta = file_lenta[file_lenta['Лента'] == 'L4'].count()\n",
    "lenta"
   ],
   "id": "c7c4b5b15dbe8291",
   "outputs": [
    {
     "data": {
      "text/plain": [
       "Лента    49990\n",
       "dtype: int64"
      ]
     },
     "execution_count": 5,
     "metadata": {},
     "output_type": "execute_result"
    }
   ],
   "execution_count": 5
  },
  {
   "metadata": {
    "ExecuteTime": {
     "end_time": "2024-05-17T02:11:08.853137Z",
     "start_time": "2024-05-17T02:11:08.803879Z"
    }
   },
   "cell_type": "code",
   "source": [
    "columns = ['Тегло', 'Скорост']\n",
    "data_selected = df[df['Лента'] == 'L4'][columns]\n",
    "data_selected"
   ],
   "id": "c37207063ddecceb",
   "outputs": [
    {
     "data": {
      "text/plain": [
       "         Тегло  Скорост\n",
       "22         0.0     54.0\n",
       "24         0.0     56.0\n",
       "26         0.0     57.0\n",
       "65         0.0     47.0\n",
       "117        0.0     49.0\n",
       "...        ...      ...\n",
       "760475     0.0     50.0\n",
       "760526     0.0     55.0\n",
       "760692     0.0     59.0\n",
       "761410  1613.0     50.0\n",
       "761417     0.0     41.0\n",
       "\n",
       "[49990 rows x 2 columns]"
      ],
      "text/html": [
       "<div>\n",
       "<style scoped>\n",
       "    .dataframe tbody tr th:only-of-type {\n",
       "        vertical-align: middle;\n",
       "    }\n",
       "\n",
       "    .dataframe tbody tr th {\n",
       "        vertical-align: top;\n",
       "    }\n",
       "\n",
       "    .dataframe thead th {\n",
       "        text-align: right;\n",
       "    }\n",
       "</style>\n",
       "<table border=\"1\" class=\"dataframe\">\n",
       "  <thead>\n",
       "    <tr style=\"text-align: right;\">\n",
       "      <th></th>\n",
       "      <th>Тегло</th>\n",
       "      <th>Скорост</th>\n",
       "    </tr>\n",
       "  </thead>\n",
       "  <tbody>\n",
       "    <tr>\n",
       "      <th>22</th>\n",
       "      <td>0.0</td>\n",
       "      <td>54.0</td>\n",
       "    </tr>\n",
       "    <tr>\n",
       "      <th>24</th>\n",
       "      <td>0.0</td>\n",
       "      <td>56.0</td>\n",
       "    </tr>\n",
       "    <tr>\n",
       "      <th>26</th>\n",
       "      <td>0.0</td>\n",
       "      <td>57.0</td>\n",
       "    </tr>\n",
       "    <tr>\n",
       "      <th>65</th>\n",
       "      <td>0.0</td>\n",
       "      <td>47.0</td>\n",
       "    </tr>\n",
       "    <tr>\n",
       "      <th>117</th>\n",
       "      <td>0.0</td>\n",
       "      <td>49.0</td>\n",
       "    </tr>\n",
       "    <tr>\n",
       "      <th>...</th>\n",
       "      <td>...</td>\n",
       "      <td>...</td>\n",
       "    </tr>\n",
       "    <tr>\n",
       "      <th>760475</th>\n",
       "      <td>0.0</td>\n",
       "      <td>50.0</td>\n",
       "    </tr>\n",
       "    <tr>\n",
       "      <th>760526</th>\n",
       "      <td>0.0</td>\n",
       "      <td>55.0</td>\n",
       "    </tr>\n",
       "    <tr>\n",
       "      <th>760692</th>\n",
       "      <td>0.0</td>\n",
       "      <td>59.0</td>\n",
       "    </tr>\n",
       "    <tr>\n",
       "      <th>761410</th>\n",
       "      <td>1613.0</td>\n",
       "      <td>50.0</td>\n",
       "    </tr>\n",
       "    <tr>\n",
       "      <th>761417</th>\n",
       "      <td>0.0</td>\n",
       "      <td>41.0</td>\n",
       "    </tr>\n",
       "  </tbody>\n",
       "</table>\n",
       "<p>49990 rows × 2 columns</p>\n",
       "</div>"
      ]
     },
     "execution_count": 6,
     "metadata": {},
     "output_type": "execute_result"
    }
   ],
   "execution_count": 6
  },
  {
   "metadata": {
    "ExecuteTime": {
     "end_time": "2024-05-17T02:11:08.861273Z",
     "start_time": "2024-05-17T02:11:08.853137Z"
    }
   },
   "cell_type": "code",
   "source": [
    "data_selected=data_selected[data_selected['Тегло']>0]\n",
    "data_selected\n"
   ],
   "id": "f719fb9e2845479f",
   "outputs": [
    {
     "data": {
      "text/plain": [
       "          Тегло  Скорост\n",
       "15473     962.0     58.0\n",
       "15498     912.0     48.0\n",
       "15533     650.0     53.0\n",
       "15534    1184.0     53.0\n",
       "15535   10036.0     40.0\n",
       "...         ...      ...\n",
       "744970   5739.0     52.0\n",
       "744973    833.0     43.0\n",
       "745276  11605.0     47.0\n",
       "745277   8697.0     46.0\n",
       "761410   1613.0     50.0\n",
       "\n",
       "[32492 rows x 2 columns]"
      ],
      "text/html": [
       "<div>\n",
       "<style scoped>\n",
       "    .dataframe tbody tr th:only-of-type {\n",
       "        vertical-align: middle;\n",
       "    }\n",
       "\n",
       "    .dataframe tbody tr th {\n",
       "        vertical-align: top;\n",
       "    }\n",
       "\n",
       "    .dataframe thead th {\n",
       "        text-align: right;\n",
       "    }\n",
       "</style>\n",
       "<table border=\"1\" class=\"dataframe\">\n",
       "  <thead>\n",
       "    <tr style=\"text-align: right;\">\n",
       "      <th></th>\n",
       "      <th>Тегло</th>\n",
       "      <th>Скорост</th>\n",
       "    </tr>\n",
       "  </thead>\n",
       "  <tbody>\n",
       "    <tr>\n",
       "      <th>15473</th>\n",
       "      <td>962.0</td>\n",
       "      <td>58.0</td>\n",
       "    </tr>\n",
       "    <tr>\n",
       "      <th>15498</th>\n",
       "      <td>912.0</td>\n",
       "      <td>48.0</td>\n",
       "    </tr>\n",
       "    <tr>\n",
       "      <th>15533</th>\n",
       "      <td>650.0</td>\n",
       "      <td>53.0</td>\n",
       "    </tr>\n",
       "    <tr>\n",
       "      <th>15534</th>\n",
       "      <td>1184.0</td>\n",
       "      <td>53.0</td>\n",
       "    </tr>\n",
       "    <tr>\n",
       "      <th>15535</th>\n",
       "      <td>10036.0</td>\n",
       "      <td>40.0</td>\n",
       "    </tr>\n",
       "    <tr>\n",
       "      <th>...</th>\n",
       "      <td>...</td>\n",
       "      <td>...</td>\n",
       "    </tr>\n",
       "    <tr>\n",
       "      <th>744970</th>\n",
       "      <td>5739.0</td>\n",
       "      <td>52.0</td>\n",
       "    </tr>\n",
       "    <tr>\n",
       "      <th>744973</th>\n",
       "      <td>833.0</td>\n",
       "      <td>43.0</td>\n",
       "    </tr>\n",
       "    <tr>\n",
       "      <th>745276</th>\n",
       "      <td>11605.0</td>\n",
       "      <td>47.0</td>\n",
       "    </tr>\n",
       "    <tr>\n",
       "      <th>745277</th>\n",
       "      <td>8697.0</td>\n",
       "      <td>46.0</td>\n",
       "    </tr>\n",
       "    <tr>\n",
       "      <th>761410</th>\n",
       "      <td>1613.0</td>\n",
       "      <td>50.0</td>\n",
       "    </tr>\n",
       "  </tbody>\n",
       "</table>\n",
       "<p>32492 rows × 2 columns</p>\n",
       "</div>"
      ]
     },
     "execution_count": 7,
     "metadata": {},
     "output_type": "execute_result"
    }
   ],
   "execution_count": 7
  },
  {
   "metadata": {
    "ExecuteTime": {
     "end_time": "2024-05-17T02:11:08.866567Z",
     "start_time": "2024-05-17T02:11:08.861273Z"
    }
   },
   "cell_type": "code",
   "source": [
    "missing_values = data_selected.isnull().sum()\n",
    "print(missing_values)"
   ],
   "id": "c09d4d2349a22b28",
   "outputs": [
    {
     "name": "stdout",
     "output_type": "stream",
     "text": [
      "Тегло      0\n",
      "Скорост    0\n",
      "dtype: int64\n"
     ]
    }
   ],
   "execution_count": 8
  },
  {
   "metadata": {
    "ExecuteTime": {
     "end_time": "2024-05-17T02:11:08.899110Z",
     "start_time": "2024-05-17T02:11:08.866567Z"
    }
   },
   "cell_type": "code",
   "source": [
    "data_selected = data_selected.replace(0, np.nan)\n",
    "data_selected.head()\n",
    "data_selected.to_csv('data_without_IF.csv', index=False)"
   ],
   "id": "6515158e6b7253f",
   "outputs": [],
   "execution_count": 9
  },
  {
   "metadata": {
    "ExecuteTime": {
     "end_time": "2024-05-17T02:11:08.903279Z",
     "start_time": "2024-05-17T02:11:08.899110Z"
    }
   },
   "cell_type": "code",
   "source": [
    "missing_values = data_selected.isnull().sum()\n",
    "print(missing_values)"
   ],
   "id": "1dd20e514b87da41",
   "outputs": [
    {
     "name": "stdout",
     "output_type": "stream",
     "text": [
      "Тегло      0\n",
      "Скорост    0\n",
      "dtype: int64\n"
     ]
    }
   ],
   "execution_count": 10
  },
  {
   "metadata": {
    "ExecuteTime": {
     "end_time": "2024-05-17T02:11:09.252409Z",
     "start_time": "2024-05-17T02:11:08.903279Z"
    }
   },
   "cell_type": "code",
   "source": [
    "from sklearn.ensemble import IsolationForest\n",
    "\n",
    "# Създаване на модел за Isolation Forest\n",
    "model = IsolationForest(random_state= 10,contamination=0.1)  # contamination е долята на аномалиите в данните\n",
    "\n",
    "# Подготовка на данните X, които съдържат вашите данни\n",
    "model.fit(data_selected)  # Трениране на модела\n",
    "predictions = model.predict(data_selected)  # Предсказване на аномалиите\n",
    "\n",
    "\n",
    "cleaned_df = data_selected[predictions == 1] "
   ],
   "id": "6a0a0ae845588cd1",
   "outputs": [],
   "execution_count": 11
  },
  {
   "metadata": {
    "ExecuteTime": {
     "end_time": "2024-05-17T02:11:09.260967Z",
     "start_time": "2024-05-17T02:11:09.252409Z"
    }
   },
   "cell_type": "code",
   "source": "cleaned_df",
   "id": "763fcdf41188305",
   "outputs": [
    {
     "data": {
      "text/plain": [
       "          Тегло  Скорост\n",
       "15473     962.0     58.0\n",
       "15498     912.0     48.0\n",
       "15533     650.0     53.0\n",
       "15534    1184.0     53.0\n",
       "15586     919.0     48.0\n",
       "...         ...      ...\n",
       "744970   5739.0     52.0\n",
       "744973    833.0     43.0\n",
       "745276  11605.0     47.0\n",
       "745277   8697.0     46.0\n",
       "761410   1613.0     50.0\n",
       "\n",
       "[29242 rows x 2 columns]"
      ],
      "text/html": [
       "<div>\n",
       "<style scoped>\n",
       "    .dataframe tbody tr th:only-of-type {\n",
       "        vertical-align: middle;\n",
       "    }\n",
       "\n",
       "    .dataframe tbody tr th {\n",
       "        vertical-align: top;\n",
       "    }\n",
       "\n",
       "    .dataframe thead th {\n",
       "        text-align: right;\n",
       "    }\n",
       "</style>\n",
       "<table border=\"1\" class=\"dataframe\">\n",
       "  <thead>\n",
       "    <tr style=\"text-align: right;\">\n",
       "      <th></th>\n",
       "      <th>Тегло</th>\n",
       "      <th>Скорост</th>\n",
       "    </tr>\n",
       "  </thead>\n",
       "  <tbody>\n",
       "    <tr>\n",
       "      <th>15473</th>\n",
       "      <td>962.0</td>\n",
       "      <td>58.0</td>\n",
       "    </tr>\n",
       "    <tr>\n",
       "      <th>15498</th>\n",
       "      <td>912.0</td>\n",
       "      <td>48.0</td>\n",
       "    </tr>\n",
       "    <tr>\n",
       "      <th>15533</th>\n",
       "      <td>650.0</td>\n",
       "      <td>53.0</td>\n",
       "    </tr>\n",
       "    <tr>\n",
       "      <th>15534</th>\n",
       "      <td>1184.0</td>\n",
       "      <td>53.0</td>\n",
       "    </tr>\n",
       "    <tr>\n",
       "      <th>15586</th>\n",
       "      <td>919.0</td>\n",
       "      <td>48.0</td>\n",
       "    </tr>\n",
       "    <tr>\n",
       "      <th>...</th>\n",
       "      <td>...</td>\n",
       "      <td>...</td>\n",
       "    </tr>\n",
       "    <tr>\n",
       "      <th>744970</th>\n",
       "      <td>5739.0</td>\n",
       "      <td>52.0</td>\n",
       "    </tr>\n",
       "    <tr>\n",
       "      <th>744973</th>\n",
       "      <td>833.0</td>\n",
       "      <td>43.0</td>\n",
       "    </tr>\n",
       "    <tr>\n",
       "      <th>745276</th>\n",
       "      <td>11605.0</td>\n",
       "      <td>47.0</td>\n",
       "    </tr>\n",
       "    <tr>\n",
       "      <th>745277</th>\n",
       "      <td>8697.0</td>\n",
       "      <td>46.0</td>\n",
       "    </tr>\n",
       "    <tr>\n",
       "      <th>761410</th>\n",
       "      <td>1613.0</td>\n",
       "      <td>50.0</td>\n",
       "    </tr>\n",
       "  </tbody>\n",
       "</table>\n",
       "<p>29242 rows × 2 columns</p>\n",
       "</div>"
      ]
     },
     "execution_count": 12,
     "metadata": {},
     "output_type": "execute_result"
    }
   ],
   "execution_count": 12
  },
  {
   "metadata": {
    "ExecuteTime": {
     "end_time": "2024-05-17T02:11:09.288067Z",
     "start_time": "2024-05-17T02:11:09.260967Z"
    }
   },
   "cell_type": "code",
   "source": "cleaned_df.to_csv('data_with_IF.csv', index=False)",
   "id": "ab376562011b74ed",
   "outputs": [],
   "execution_count": 13
  },
  {
   "metadata": {
    "ExecuteTime": {
     "end_time": "2024-05-17T02:11:09.682821Z",
     "start_time": "2024-05-17T02:11:09.288067Z"
    }
   },
   "cell_type": "code",
   "source": [
    "from sklearn.cluster import KMeans\n",
    "import matplotlib.pyplot as plt\n",
    "\n",
    "# Примерни данни\n",
    "# предполагаме, че X е вашият набор от данни\n",
    "X = cleaned_df\n",
    "\n",
    "# Създаване на списък, в който ще съхраните стойности на вариацията за всяко k\n",
    "variations = []\n",
    "\n",
    "# Ползваме k от 1 до 10 за пример\n",
    "for k in range(1, 11):\n",
    "    # Създаване на k-means модел с k кластера\n",
    "    kmeans = KMeans(n_clusters=k)\n",
    "    kmeans.fit(X)\n",
    "    \n",
    "    # Записване на вариацията за текущото k\n",
    "    variations.append(kmeans.inertia_)\n",
    "\n",
    "# Визуализация на метода на лакътя\n",
    "plt.plot(range(1, 11), variations, marker='o')\n",
    "plt.xlabel('Брой клъстери')\n",
    "plt.ylabel('Сума на квадратите на разстоянията до центроидите (инерция)')\n",
    "plt.title('Метод на лакътя')\n",
    "plt.show()"
   ],
   "id": "64b8a8c0b58ab596",
   "outputs": [
    {
     "data": {
      "text/plain": [
       "<Figure size 640x480 with 1 Axes>"
      ],
      "image/png": "[encoded data removed]"
     },
     "metadata": {},
     "output_type": "display_data"
    }
   ],
   "execution_count": 14
  },
  {
   "metadata": {
    "ExecuteTime": {
     "end_time": "2024-05-17T02:11:09.690281Z",
     "start_time": "2024-05-17T02:11:09.682821Z"
    }
   },
   "cell_type": "code",
   "source": [
    "from sklearn.preprocessing import StandardScaler\n",
    "numeric_columns = cleaned_df.select_dtypes(include=['number']).columns\n",
    "scaler = StandardScaler()\n",
    "data_standartized = scaler.fit_transform(cleaned_df[numeric_columns])\n",
    "data_standartized"
   ],
   "id": "f67070d0e035f1cf",
   "outputs": [
    {
     "data": {
      "text/plain": [
       "array([[-0.37776532,  0.91808977],\n",
       "       [-0.4016831 , -0.6985337 ],\n",
       "       [-0.52701227,  0.10977803],\n",
       "       ...,\n",
       "       [ 4.71337327, -0.86019605],\n",
       "       [ 3.3223152 , -1.02185839],\n",
       "       [-0.06635583, -0.37520901]])"
      ]
     },
     "execution_count": 15,
     "metadata": {},
     "output_type": "execute_result"
    }
   ],
   "execution_count": 15
  },
  {
   "metadata": {
    "ExecuteTime": {
     "end_time": "2024-05-17T02:11:09.959215Z",
     "start_time": "2024-05-17T02:11:09.690281Z"
    }
   },
   "cell_type": "code",
   "source": [
    "n_clusters = 3\n",
    "gmm = GaussianMixture(n_components=n_clusters)\n",
    "gmm.fit(data_standartized)\n",
    "labels = gmm.predict(data_standartized)"
   ],
   "id": "83af4399afc9629f",
   "outputs": [],
   "execution_count": 16
  },
  {
   "metadata": {
    "ExecuteTime": {
     "end_time": "2024-05-17T02:11:10.379118Z",
     "start_time": "2024-05-17T02:11:09.959215Z"
    }
   },
   "cell_type": "code",
   "source": [
    "data_standartized=cleaned_df.copy()\n",
    "data_standartized['Cluster']=labels\n",
    "plt.scatter(data_standartized['Скорост'],data_standartized['Тегло'],c=data_standartized['Cluster'],cmap= 'viridis')\n",
    "plt.show()"
   ],
   "id": "6c2a78ae7a743f3f",
   "outputs": [
    {
     "data": {
      "text/plain": [
       "<Figure size 640x480 with 1 Axes>"
      ],
      "image/png": "[encoded data removed]"
     },
     "metadata": {},
     "output_type": "display_data"
    }
   ],
   "execution_count": 17
  },
  {
   "metadata": {
    "ExecuteTime": {
     "end_time": "2024-05-17T02:11:10.382174Z",
     "start_time": "2024-05-17T02:11:10.379118Z"
    }
   },
   "cell_type": "code",
   "source": "",
   "id": "a9b252ffef83051b",
   "outputs": [],
   "execution_count": 17
  }
 ],
 "metadata": {
  "kernelspec": {
   "display_name": "Python 3",
   "language": "python",
   "name": "python3"
  },
  "language_info": {
   "codemirror_mode": {
    "name": "ipython",
    "version": 2
   },
   "file_extension": ".py",
   "mimetype": "text/x-python",
   "name": "python",
   "nbconvert_exporter": "python",
   "pygments_lexer": "ipython2",
   "version": "2.7.6"
  }
 },
 "nbformat": 4,
 "nbformat_minor": 5
}
