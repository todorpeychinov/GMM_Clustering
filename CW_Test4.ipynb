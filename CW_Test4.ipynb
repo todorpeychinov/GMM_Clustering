{
 "cells": [
  {
   "cell_type": "code",
   "id": "initial_id",
   "metadata": {
    "collapsed": true,
    "ExecuteTime": {
     "end_time": "2024-05-17T01:47:31.346005Z",
     "start_time": "2024-05-17T01:47:31.202795Z"
    }
   },
   "source": [
    "import pandas as pd\n",
    "import numpy as np\n",
    "import matplotlib.pyplot as plt\n",
    "import seaborn as sns\n",
    "from sklearn.mixture import GaussianMixture\n",
    "\n",
    "import warnings\n",
    "warnings.filterwarnings(\"ignore\")"
   ],
   "outputs": [],
   "execution_count": 1
  },
  {
   "metadata": {
    "ExecuteTime": {
     "end_time": "2024-05-17T01:47:33.107694Z",
     "start_time": "2024-05-17T01:47:31.346005Z"
    }
   },
   "cell_type": "code",
   "source": [
    "data = 'result_comma.csv'\n",
    "df = pd.read_csv(data)\n",
    "df.head()"
   ],
   "id": "22dab79e994d3dc0",
   "outputs": [
    {
     "data": {
      "text/plain": [
       "   Unnamed: 0                 date                 Дата_x        Посока  \\\n",
       "0           0  2023-03-29 12:00:00  29.3.2023 г. 12:00:06  Околовръстно   \n",
       "1           1  2023-03-29 12:00:00  29.3.2023 г. 12:00:07        Център   \n",
       "2           2  2023-03-29 12:00:00  29.3.2023 г. 12:00:08  Околовръстно   \n",
       "3           3  2023-03-29 12:00:00  29.3.2023 г. 12:00:10  Околовръстно   \n",
       "4           4  2023-03-29 12:00:00  29.3.2023 г. 12:00:11  Околовръстно   \n",
       "\n",
       "            Рег. номер Държава  Скорост  Клас Лента  Дължина  ...  \\\n",
       "0 -6295152506763664080     NaN     56.0   1.0    L6   2168.0  ...   \n",
       "1         140823469443     NaN     50.0   0.0    L2   2200.0  ...   \n",
       "2         140823469443     NaN     43.0   1.0    L5   3400.0  ...   \n",
       "3         140823469443     NaN     50.0   1.0    L5   9947.0  ...   \n",
       "4         140823469443     NaN     48.0   1.0    L6   3600.0  ...   \n",
       "\n",
       "   Средна скорост на вятър в m/s Средна посока на вятър в °  \\\n",
       "0                            4.6                      326.0   \n",
       "1                            4.6                      326.0   \n",
       "2                            4.6                      326.0   \n",
       "3                            4.6                      326.0   \n",
       "4                            4.6                      326.0   \n",
       "\n",
       "  Темп. на повърхността на настилката в °C  Точка на замръзване в °C  \\\n",
       "0                                     14.3                       0.0   \n",
       "1                                     14.3                       0.0   \n",
       "2                                     14.3                       0.0   \n",
       "3                                     14.3                       0.0   \n",
       "4                                     14.3                       0.0   \n",
       "\n",
       "   Състояние на повърхността  Предупреждение за състояние на повърхността  \\\n",
       "0                         DR                                          NaN   \n",
       "1                         DR                                          NaN   \n",
       "2                         DR                                          NaN   \n",
       "3                         DR                                          NaN   \n",
       "4                         DR                                          NaN   \n",
       "\n",
       "   Височина на водния стълб в µm  Темп. под повърхн. на дълб. 5 см в °C  \\\n",
       "0                            0.0                                   11.2   \n",
       "1                            0.0                                   11.2   \n",
       "2                            0.0                                   11.2   \n",
       "3                            0.0                                   11.2   \n",
       "4                            0.0                                   11.2   \n",
       "\n",
       "   Макс. скорост на вятър в m/s  Посока на вятъра при макс. скорост в °  \n",
       "0                           8.7                                     3.0  \n",
       "1                           8.7                                     3.0  \n",
       "2                           8.7                                     3.0  \n",
       "3                           8.7                                     3.0  \n",
       "4                           8.7                                     3.0  \n",
       "\n",
       "[5 rows x 28 columns]"
      ],
      "text/html": [
       "<div>\n",
       "<style scoped>\n",
       "    .dataframe tbody tr th:only-of-type {\n",
       "        vertical-align: middle;\n",
       "    }\n",
       "\n",
       "    .dataframe tbody tr th {\n",
       "        vertical-align: top;\n",
       "    }\n",
       "\n",
       "    .dataframe thead th {\n",
       "        text-align: right;\n",
       "    }\n",
       "</style>\n",
       "<table border=\"1\" class=\"dataframe\">\n",
       "  <thead>\n",
       "    <tr style=\"text-align: right;\">\n",
       "      <th></th>\n",
       "      <th>Unnamed: 0</th>\n",
       "      <th>date</th>\n",
       "      <th>Дата_x</th>\n",
       "      <th>Посока</th>\n",
       "      <th>Рег. номер</th>\n",
       "      <th>Държава</th>\n",
       "      <th>Скорост</th>\n",
       "      <th>Клас</th>\n",
       "      <th>Лента</th>\n",
       "      <th>Дължина</th>\n",
       "      <th>...</th>\n",
       "      <th>Средна скорост на вятър в m/s</th>\n",
       "      <th>Средна посока на вятър в °</th>\n",
       "      <th>Темп. на повърхността на настилката в °C</th>\n",
       "      <th>Точка на замръзване в °C</th>\n",
       "      <th>Състояние на повърхността</th>\n",
       "      <th>Предупреждение за състояние на повърхността</th>\n",
       "      <th>Височина на водния стълб в µm</th>\n",
       "      <th>Темп. под повърхн. на дълб. 5 см в °C</th>\n",
       "      <th>Макс. скорост на вятър в m/s</th>\n",
       "      <th>Посока на вятъра при макс. скорост в °</th>\n",
       "    </tr>\n",
       "  </thead>\n",
       "  <tbody>\n",
       "    <tr>\n",
       "      <th>0</th>\n",
       "      <td>0</td>\n",
       "      <td>2023-03-29 12:00:00</td>\n",
       "      <td>29.3.2023 г. 12:00:06</td>\n",
       "      <td>Околовръстно</td>\n",
       "      <td>-6295152506763664080</td>\n",
       "      <td>NaN</td>\n",
       "      <td>56.0</td>\n",
       "      <td>1.0</td>\n",
       "      <td>L6</td>\n",
       "      <td>2168.0</td>\n",
       "      <td>...</td>\n",
       "      <td>4.6</td>\n",
       "      <td>326.0</td>\n",
       "      <td>14.3</td>\n",
       "      <td>0.0</td>\n",
       "      <td>DR</td>\n",
       "      <td>NaN</td>\n",
       "      <td>0.0</td>\n",
       "      <td>11.2</td>\n",
       "      <td>8.7</td>\n",
       "      <td>3.0</td>\n",
       "    </tr>\n",
       "    <tr>\n",
       "      <th>1</th>\n",
       "      <td>1</td>\n",
       "      <td>2023-03-29 12:00:00</td>\n",
       "      <td>29.3.2023 г. 12:00:07</td>\n",
       "      <td>Център</td>\n",
       "      <td>140823469443</td>\n",
       "      <td>NaN</td>\n",
       "      <td>50.0</td>\n",
       "      <td>0.0</td>\n",
       "      <td>L2</td>\n",
       "      <td>2200.0</td>\n",
       "      <td>...</td>\n",
       "      <td>4.6</td>\n",
       "      <td>326.0</td>\n",
       "      <td>14.3</td>\n",
       "      <td>0.0</td>\n",
       "      <td>DR</td>\n",
       "      <td>NaN</td>\n",
       "      <td>0.0</td>\n",
       "      <td>11.2</td>\n",
       "      <td>8.7</td>\n",
       "      <td>3.0</td>\n",
       "    </tr>\n",
       "    <tr>\n",
       "      <th>2</th>\n",
       "      <td>2</td>\n",
       "      <td>2023-03-29 12:00:00</td>\n",
       "      <td>29.3.2023 г. 12:00:08</td>\n",
       "      <td>Околовръстно</td>\n",
       "      <td>140823469443</td>\n",
       "      <td>NaN</td>\n",
       "      <td>43.0</td>\n",
       "      <td>1.0</td>\n",
       "      <td>L5</td>\n",
       "      <td>3400.0</td>\n",
       "      <td>...</td>\n",
       "      <td>4.6</td>\n",
       "      <td>326.0</td>\n",
       "      <td>14.3</td>\n",
       "      <td>0.0</td>\n",
       "      <td>DR</td>\n",
       "      <td>NaN</td>\n",
       "      <td>0.0</td>\n",
       "      <td>11.2</td>\n",
       "      <td>8.7</td>\n",
       "      <td>3.0</td>\n",
       "    </tr>\n",
       "    <tr>\n",
       "      <th>3</th>\n",
       "      <td>3</td>\n",
       "      <td>2023-03-29 12:00:00</td>\n",
       "      <td>29.3.2023 г. 12:00:10</td>\n",
       "      <td>Околовръстно</td>\n",
       "      <td>140823469443</td>\n",
       "      <td>NaN</td>\n",
       "      <td>50.0</td>\n",
       "      <td>1.0</td>\n",
       "      <td>L5</td>\n",
       "      <td>9947.0</td>\n",
       "      <td>...</td>\n",
       "      <td>4.6</td>\n",
       "      <td>326.0</td>\n",
       "      <td>14.3</td>\n",
       "      <td>0.0</td>\n",
       "      <td>DR</td>\n",
       "      <td>NaN</td>\n",
       "      <td>0.0</td>\n",
       "      <td>11.2</td>\n",
       "      <td>8.7</td>\n",
       "      <td>3.0</td>\n",
       "    </tr>\n",
       "    <tr>\n",
       "      <th>4</th>\n",
       "      <td>4</td>\n",
       "      <td>2023-03-29 12:00:00</td>\n",
       "      <td>29.3.2023 г. 12:00:11</td>\n",
       "      <td>Околовръстно</td>\n",
       "      <td>140823469443</td>\n",
       "      <td>NaN</td>\n",
       "      <td>48.0</td>\n",
       "      <td>1.0</td>\n",
       "      <td>L6</td>\n",
       "      <td>3600.0</td>\n",
       "      <td>...</td>\n",
       "      <td>4.6</td>\n",
       "      <td>326.0</td>\n",
       "      <td>14.3</td>\n",
       "      <td>0.0</td>\n",
       "      <td>DR</td>\n",
       "      <td>NaN</td>\n",
       "      <td>0.0</td>\n",
       "      <td>11.2</td>\n",
       "      <td>8.7</td>\n",
       "      <td>3.0</td>\n",
       "    </tr>\n",
       "  </tbody>\n",
       "</table>\n",
       "<p>5 rows × 28 columns</p>\n",
       "</div>"
      ]
     },
     "execution_count": 2,
     "metadata": {},
     "output_type": "execute_result"
    }
   ],
   "execution_count": 2
  },
  {
   "metadata": {
    "ExecuteTime": {
     "end_time": "2024-05-17T01:47:33.126551Z",
     "start_time": "2024-05-17T01:47:33.108428Z"
    }
   },
   "cell_type": "code",
   "source": [
    "#selected_columns = ['Скорост', 'Тегло']\n",
    "#data_selected = df[selected_columns]\n",
    "#data_selected.head()\n",
    "selected_columns = ['Скорост', 'Тегло']\n",
    "data_selected=df[selected_columns]\n",
    "data_selected=data_selected[data_selected['Тегло']>0]\n",
    "data_selected.head()\n"
   ],
   "id": "f4196781b256f388",
   "outputs": [
    {
     "data": {
      "text/plain": [
       "   Скорост   Тегло\n",
       "0     56.0  1206.0\n",
       "2     43.0  1099.0\n",
       "3     50.0  1985.0\n",
       "4     48.0  1410.0\n",
       "5     24.0   548.0"
      ],
      "text/html": [
       "<div>\n",
       "<style scoped>\n",
       "    .dataframe tbody tr th:only-of-type {\n",
       "        vertical-align: middle;\n",
       "    }\n",
       "\n",
       "    .dataframe tbody tr th {\n",
       "        vertical-align: top;\n",
       "    }\n",
       "\n",
       "    .dataframe thead th {\n",
       "        text-align: right;\n",
       "    }\n",
       "</style>\n",
       "<table border=\"1\" class=\"dataframe\">\n",
       "  <thead>\n",
       "    <tr style=\"text-align: right;\">\n",
       "      <th></th>\n",
       "      <th>Скорост</th>\n",
       "      <th>Тегло</th>\n",
       "    </tr>\n",
       "  </thead>\n",
       "  <tbody>\n",
       "    <tr>\n",
       "      <th>0</th>\n",
       "      <td>56.0</td>\n",
       "      <td>1206.0</td>\n",
       "    </tr>\n",
       "    <tr>\n",
       "      <th>2</th>\n",
       "      <td>43.0</td>\n",
       "      <td>1099.0</td>\n",
       "    </tr>\n",
       "    <tr>\n",
       "      <th>3</th>\n",
       "      <td>50.0</td>\n",
       "      <td>1985.0</td>\n",
       "    </tr>\n",
       "    <tr>\n",
       "      <th>4</th>\n",
       "      <td>48.0</td>\n",
       "      <td>1410.0</td>\n",
       "    </tr>\n",
       "    <tr>\n",
       "      <th>5</th>\n",
       "      <td>24.0</td>\n",
       "      <td>548.0</td>\n",
       "    </tr>\n",
       "  </tbody>\n",
       "</table>\n",
       "</div>"
      ]
     },
     "execution_count": 3,
     "metadata": {},
     "output_type": "execute_result"
    }
   ],
   "execution_count": 3
  },
  {
   "metadata": {
    "ExecuteTime": {
     "end_time": "2024-05-17T01:47:33.134725Z",
     "start_time": "2024-05-17T01:47:33.126551Z"
    }
   },
   "cell_type": "code",
   "source": [
    "missing_values = data_selected.isnull().sum()\n",
    "print(missing_values)"
   ],
   "id": "b9768d725467a58e",
   "outputs": [
    {
     "name": "stdout",
     "output_type": "stream",
     "text": [
      "Скорост    0\n",
      "Тегло      0\n",
      "dtype: int64\n"
     ]
    }
   ],
   "execution_count": 4
  },
  {
   "metadata": {
    "ExecuteTime": {
     "end_time": "2024-05-17T01:47:33.145185Z",
     "start_time": "2024-05-17T01:47:33.135563Z"
    }
   },
   "cell_type": "code",
   "source": [
    "data_selected = data_selected.replace(0, np.nan)\n",
    "data_selected.head()"
   ],
   "id": "18b5742487bb90f9",
   "outputs": [
    {
     "data": {
      "text/plain": [
       "   Скорост   Тегло\n",
       "0     56.0  1206.0\n",
       "2     43.0  1099.0\n",
       "3     50.0  1985.0\n",
       "4     48.0  1410.0\n",
       "5     24.0   548.0"
      ],
      "text/html": [
       "<div>\n",
       "<style scoped>\n",
       "    .dataframe tbody tr th:only-of-type {\n",
       "        vertical-align: middle;\n",
       "    }\n",
       "\n",
       "    .dataframe tbody tr th {\n",
       "        vertical-align: top;\n",
       "    }\n",
       "\n",
       "    .dataframe thead th {\n",
       "        text-align: right;\n",
       "    }\n",
       "</style>\n",
       "<table border=\"1\" class=\"dataframe\">\n",
       "  <thead>\n",
       "    <tr style=\"text-align: right;\">\n",
       "      <th></th>\n",
       "      <th>Скорост</th>\n",
       "      <th>Тегло</th>\n",
       "    </tr>\n",
       "  </thead>\n",
       "  <tbody>\n",
       "    <tr>\n",
       "      <th>0</th>\n",
       "      <td>56.0</td>\n",
       "      <td>1206.0</td>\n",
       "    </tr>\n",
       "    <tr>\n",
       "      <th>2</th>\n",
       "      <td>43.0</td>\n",
       "      <td>1099.0</td>\n",
       "    </tr>\n",
       "    <tr>\n",
       "      <th>3</th>\n",
       "      <td>50.0</td>\n",
       "      <td>1985.0</td>\n",
       "    </tr>\n",
       "    <tr>\n",
       "      <th>4</th>\n",
       "      <td>48.0</td>\n",
       "      <td>1410.0</td>\n",
       "    </tr>\n",
       "    <tr>\n",
       "      <th>5</th>\n",
       "      <td>24.0</td>\n",
       "      <td>548.0</td>\n",
       "    </tr>\n",
       "  </tbody>\n",
       "</table>\n",
       "</div>"
      ]
     },
     "execution_count": 5,
     "metadata": {},
     "output_type": "execute_result"
    }
   ],
   "execution_count": 5
  },
  {
   "metadata": {
    "ExecuteTime": {
     "end_time": "2024-05-17T01:47:33.151575Z",
     "start_time": "2024-05-17T01:47:33.145185Z"
    }
   },
   "cell_type": "code",
   "source": [
    "missing_values = data_selected.isnull().sum()\n",
    "print(missing_values)"
   ],
   "id": "cc4660283f638b05",
   "outputs": [
    {
     "name": "stdout",
     "output_type": "stream",
     "text": [
      "Скорост    0\n",
      "Тегло      0\n",
      "dtype: int64\n"
     ]
    }
   ],
   "execution_count": 6
  },
  {
   "metadata": {
    "ExecuteTime": {
     "end_time": "2024-05-17T01:47:33.162067Z",
     "start_time": "2024-05-17T01:47:33.151575Z"
    }
   },
   "cell_type": "code",
   "source": [
    "data_selected = data_selected.dropna()\n",
    "data_selected.head()"
   ],
   "id": "3dd3b2756483c4a9",
   "outputs": [
    {
     "data": {
      "text/plain": [
       "   Скорост   Тегло\n",
       "0     56.0  1206.0\n",
       "2     43.0  1099.0\n",
       "3     50.0  1985.0\n",
       "4     48.0  1410.0\n",
       "5     24.0   548.0"
      ],
      "text/html": [
       "<div>\n",
       "<style scoped>\n",
       "    .dataframe tbody tr th:only-of-type {\n",
       "        vertical-align: middle;\n",
       "    }\n",
       "\n",
       "    .dataframe tbody tr th {\n",
       "        vertical-align: top;\n",
       "    }\n",
       "\n",
       "    .dataframe thead th {\n",
       "        text-align: right;\n",
       "    }\n",
       "</style>\n",
       "<table border=\"1\" class=\"dataframe\">\n",
       "  <thead>\n",
       "    <tr style=\"text-align: right;\">\n",
       "      <th></th>\n",
       "      <th>Скорост</th>\n",
       "      <th>Тегло</th>\n",
       "    </tr>\n",
       "  </thead>\n",
       "  <tbody>\n",
       "    <tr>\n",
       "      <th>0</th>\n",
       "      <td>56.0</td>\n",
       "      <td>1206.0</td>\n",
       "    </tr>\n",
       "    <tr>\n",
       "      <th>2</th>\n",
       "      <td>43.0</td>\n",
       "      <td>1099.0</td>\n",
       "    </tr>\n",
       "    <tr>\n",
       "      <th>3</th>\n",
       "      <td>50.0</td>\n",
       "      <td>1985.0</td>\n",
       "    </tr>\n",
       "    <tr>\n",
       "      <th>4</th>\n",
       "      <td>48.0</td>\n",
       "      <td>1410.0</td>\n",
       "    </tr>\n",
       "    <tr>\n",
       "      <th>5</th>\n",
       "      <td>24.0</td>\n",
       "      <td>548.0</td>\n",
       "    </tr>\n",
       "  </tbody>\n",
       "</table>\n",
       "</div>"
      ]
     },
     "execution_count": 7,
     "metadata": {},
     "output_type": "execute_result"
    }
   ],
   "execution_count": 7
  },
  {
   "metadata": {
    "ExecuteTime": {
     "end_time": "2024-05-17T01:47:33.168416Z",
     "start_time": "2024-05-17T01:47:33.162067Z"
    }
   },
   "cell_type": "code",
   "source": [
    "missing_values = data_selected.isnull().sum()\n",
    "print(missing_values)"
   ],
   "id": "e486e3f0b373fcbd",
   "outputs": [
    {
     "name": "stdout",
     "output_type": "stream",
     "text": [
      "Скорост    0\n",
      "Тегло      0\n",
      "dtype: int64\n"
     ]
    }
   ],
   "execution_count": 8
  },
  {
   "metadata": {
    "ExecuteTime": {
     "end_time": "2024-05-17T01:47:39.052703Z",
     "start_time": "2024-05-17T01:47:33.168416Z"
    }
   },
   "cell_type": "code",
   "source": [
    "from sklearn.ensemble import IsolationForest\n",
    "\n",
    "# Създаване на модел за Isolation Forest\n",
    "model = IsolationForest(random_state= 10,contamination=0.1)  # contamination е долята на аномалиите в данните\n",
    "\n",
    "# Подготовка на данните X, които съдържат вашите данни\n",
    "model.fit(data_selected)  # Трениране на модела\n",
    "predictions = model.predict(data_selected)  # Предсказване на аномалиите\n",
    "\n",
    "\n",
    "cleaned_df = data_selected[predictions == 1] "
   ],
   "id": "f9c3cbfa09fd7273",
   "outputs": [],
   "execution_count": 9
  },
  {
   "metadata": {
    "ExecuteTime": {
     "end_time": "2024-05-17T01:47:41.696505Z",
     "start_time": "2024-05-17T01:47:39.052703Z"
    }
   },
   "cell_type": "code",
   "source": [
    "from sklearn.cluster import KMeans\n",
    "import matplotlib.pyplot as plt\n",
    "\n",
    "# Примерни данни\n",
    "# предполагаме, че X е вашият набор от данни\n",
    "X = cleaned_df\n",
    "\n",
    "# Създаване на списък, в който ще съхраните стойности на вариацията за всяко k\n",
    "variations = []\n",
    "\n",
    "# Ползваме k от 1 до 10 за пример\n",
    "for k in range(1, 11):\n",
    "    # Създаване на k-means модел с k кластера\n",
    "    kmeans = KMeans(n_clusters=k)\n",
    "    kmeans.fit(X)\n",
    "    \n",
    "    # Записване на вариацията за текущото k\n",
    "    variations.append(kmeans.inertia_)\n",
    "\n",
    "# Визуализация на метода на лакътя\n",
    "plt.plot(range(1, 11), variations, marker='o')\n",
    "plt.xlabel('Брой кластери')\n",
    "plt.ylabel('Сума на квадратите на разстоянията до центроидите (инерция)')\n",
    "plt.title('Метод на лакътя')\n",
    "plt.show()"
   ],
   "id": "7d5f29477de25388",
   "outputs": [
    {
     "data": {
      "text/plain": [
       "<Figure size 640x480 with 1 Axes>"
      ],
      "image/png": "[encoded data removed]"
     },
     "metadata": {},
     "output_type": "display_data"
    }
   ],
   "execution_count": 10
  },
  {
   "metadata": {
    "ExecuteTime": {
     "end_time": "2024-05-17T01:47:41.723610Z",
     "start_time": "2024-05-17T01:47:41.696505Z"
    }
   },
   "cell_type": "code",
   "source": [
    "from sklearn.preprocessing import StandardScaler\n",
    "numeric_columns = cleaned_df.select_dtypes(include=['number']).columns\n",
    "scaler = StandardScaler()\n",
    "data_standartized = scaler.fit_transform(cleaned_df[numeric_columns])\n",
    "data_standartized"
   ],
   "id": "a9ac7ca9a4b95a36",
   "outputs": [
    {
     "data": {
      "text/plain": [
       "array([[ 1.13983645, -0.53198112],\n",
       "       [-0.37926835, -0.63384884],\n",
       "       [ 0.43871116,  0.20965394],\n",
       "       ...,\n",
       "       [-0.49612257, -0.95944472],\n",
       "       [-2.83320689, -1.03465546],\n",
       "       [-0.37926835,  0.11445047]])"
      ]
     },
     "execution_count": 11,
     "metadata": {},
     "output_type": "execute_result"
    }
   ],
   "execution_count": 11
  },
  {
   "metadata": {
    "ExecuteTime": {
     "end_time": "2024-05-17T01:47:44.739988Z",
     "start_time": "2024-05-17T01:47:41.723610Z"
    }
   },
   "cell_type": "code",
   "source": [
    "n_clusters = 4\n",
    "gmm = GaussianMixture(n_components=n_clusters)\n",
    "gmm.fit(data_standartized)\n",
    "labels = gmm.predict(data_standartized)"
   ],
   "id": "3845e58250175b9f",
   "outputs": [],
   "execution_count": 12
  },
  {
   "metadata": {
    "ExecuteTime": {
     "end_time": "2024-05-17T01:47:50.683182Z",
     "start_time": "2024-05-17T01:47:44.739988Z"
    }
   },
   "cell_type": "code",
   "source": [
    "data_standartized=cleaned_df.copy()\n",
    "data_standartized['Cluster']=labels\n",
    "plt.scatter(data_standartized['Скорост'],data_standartized['Тегло'],c=data_standartized['Cluster'],cmap= 'viridis')\n",
    "plt.show()"
   ],
   "id": "9ef7f3725d40e66",
   "outputs": [
    {
     "data": {
      "text/plain": [
       "<Figure size 640x480 with 1 Axes>"
      ],
      "image/png": "[encoded data removed]"
     },
     "metadata": {},
     "output_type": "display_data"
    }
   ],
   "execution_count": 13
  },
  {
   "metadata": {
    "ExecuteTime": {
     "end_time": "2024-05-17T01:47:50.686207Z",
     "start_time": "2024-05-17T01:47:50.683182Z"
    }
   },
   "cell_type": "code",
   "source": "",
   "id": "68caed86de3b2349",
   "outputs": [],
   "execution_count": 13
  }
 ],
 "metadata": {
  "kernelspec": {
   "display_name": "Python 3",
   "language": "python",
   "name": "python3"
  },
  "language_info": {
   "codemirror_mode": {
    "name": "ipython",
    "version": 2
   },
   "file_extension": ".py",
   "mimetype": "text/x-python",
   "name": "python",
   "nbconvert_exporter": "python",
   "pygments_lexer": "ipython2",
   "version": "2.7.6"
  }
 },
 "nbformat": 4,
 "nbformat_minor": 5
}
